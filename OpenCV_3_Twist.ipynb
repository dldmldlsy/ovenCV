{
  "nbformat": 4,
  "nbformat_minor": 0,
  "metadata": {
    "colab": {
      "name": "OpenCV_3_Twist.ipynb",
      "provenance": [],
      "collapsed_sections": [],
      "authorship_tag": "ABX9TyP8kM4vDUayIUohnR6RQ8xN",
      "include_colab_link": true
    },
    "kernelspec": {
      "name": "python3",
      "display_name": "Python 3"
    },
    "language_info": {
      "name": "python"
    }
  },
  "cells": [
    {
      "cell_type": "markdown",
      "metadata": {
        "id": "view-in-github",
        "colab_type": "text"
      },
      "source": [
        "<a href=\"https://colab.research.google.com/github/dldmldlsy/ovenCV/blob/master/OpenCV_3_Twist.ipynb\" target=\"_parent\"><img src=\"https://colab.research.google.com/assets/colab-badge.svg\" alt=\"Open In Colab\"/></a>"
      ]
    },
    {
      "cell_type": "code",
      "metadata": {
        "colab": {
          "base_uri": "https://localhost:8080/",
          "height": 239
        },
        "id": "jEjShegUmpF_",
        "outputId": "1a7401b3-729e-4fb4-c025-829deeca90f9"
      },
      "source": [
        "for i in range(11):\n",
        "  cv2.line(white, (10+i*50,10),(10+i*50,10));\n",
        "\n",
        "  cv2_imshow(white);"
      ],
      "execution_count": null,
      "outputs": [
        {
          "output_type": "error",
          "ename": "NameError",
          "evalue": "ignored",
          "traceback": [
            "\u001b[0;31m---------------------------------------------------------------------------\u001b[0m",
            "\u001b[0;31mNameError\u001b[0m                                 Traceback (most recent call last)",
            "\u001b[0;32m<ipython-input-1-1fc55f2008e6>\u001b[0m in \u001b[0;36m<module>\u001b[0;34m()\u001b[0m\n\u001b[1;32m      1\u001b[0m \u001b[0;32mfor\u001b[0m \u001b[0mi\u001b[0m \u001b[0;32min\u001b[0m \u001b[0mrange\u001b[0m\u001b[0;34m(\u001b[0m\u001b[0;36m11\u001b[0m\u001b[0;34m)\u001b[0m\u001b[0;34m:\u001b[0m\u001b[0;34m\u001b[0m\u001b[0;34m\u001b[0m\u001b[0m\n\u001b[0;32m----> 2\u001b[0;31m   \u001b[0mcv2\u001b[0m\u001b[0;34m.\u001b[0m\u001b[0mline\u001b[0m\u001b[0;34m(\u001b[0m\u001b[0mwhite\u001b[0m\u001b[0;34m,\u001b[0m \u001b[0;34m(\u001b[0m\u001b[0;36m10\u001b[0m\u001b[0;34m+\u001b[0m\u001b[0mi\u001b[0m\u001b[0;34m*\u001b[0m\u001b[0;36m50\u001b[0m\u001b[0;34m,\u001b[0m\u001b[0;36m10\u001b[0m\u001b[0;34m)\u001b[0m\u001b[0;34m,\u001b[0m\u001b[0;34m(\u001b[0m\u001b[0;36m10\u001b[0m\u001b[0;34m+\u001b[0m\u001b[0mi\u001b[0m\u001b[0;34m*\u001b[0m\u001b[0;36m50\u001b[0m\u001b[0;34m,\u001b[0m\u001b[0;36m10\u001b[0m\u001b[0;34m)\u001b[0m\u001b[0;34m)\u001b[0m\u001b[0;34m;\u001b[0m\u001b[0;34m\u001b[0m\u001b[0;34m\u001b[0m\u001b[0m\n\u001b[0m\u001b[1;32m      3\u001b[0m \u001b[0;34m\u001b[0m\u001b[0m\n\u001b[1;32m      4\u001b[0m   \u001b[0mcv2_imshow\u001b[0m\u001b[0;34m(\u001b[0m\u001b[0mwhite\u001b[0m\u001b[0;34m)\u001b[0m\u001b[0;34m;\u001b[0m\u001b[0;34m\u001b[0m\u001b[0;34m\u001b[0m\u001b[0m\n",
            "\u001b[0;31mNameError\u001b[0m: name 'cv2' is not defined"
          ]
        }
      ]
    },
    {
      "cell_type": "code",
      "metadata": {
        "id": "LFEHqHJynNRL"
      },
      "source": [
        "point_list=[]\n",
        "point_list.append((60,60))\n",
        "point_list.append((460,60))\n",
        "point_list.append((60,460))\n",
        "\n",
        "for i range(len(point_list)):\n",
        "  cv2.circle(white.point_list[i])\n",
        "\n",
        "\n",
        "pts1=np.float32([list(point_list[0]),list(point_list[1]),list(point_list[2])]) #포인트리스트의 0\n",
        "#np: 넘파일 32비트로 이루어진 실수(ㅇㅍ변환이 이 비트로만 됨)\n",
        "pts1=np.float32([list(point_list[0]),list(point_list[1]),list(point_list[2])]) #포인트리스트의 0\n",
        "\n",
        "\n",
        "pts2[1][1]=pts2[1][1]+100\n",
        "#0이면 x좌표 1이면 y좌표\n",
        "M=cv2.getAffineTransform(pts1,pts2)\n",
        "img_result=cv2.wrapAffine(white,M,(width, height))\n",
        "cv2_imshow(img_result)\n",
        "\n",
        "\n",
        "pts2[2][0]=pts2[1][1]+100\n",
        "#0이면 x좌표 1이면 y좌표\n",
        "M=cv2.getAffineTransform(pts1,pts2)\n",
        "img_result=cv2.wrapAffine(white,M,(width, height))\n",
        "cv2_imshow(img_result)"
      ],
      "execution_count": null,
      "outputs": []
    }
  ]
}